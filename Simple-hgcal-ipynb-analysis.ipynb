{
 "cells": [
  {
   "cell_type": "markdown",
   "metadata": {},
   "source": [
    "Let's first import the modules we may need."
   ]
  },
  {
   "cell_type": "code",
   "execution_count": null,
   "metadata": {},
   "outputs": [],
   "source": [
    "import matplotlib.pyplot as plt\n",
    "import uproot as upr\n",
    "import awkward as ak\n",
    "import numpy as np"
   ]
  },
  {
   "cell_type": "markdown",
   "metadata": {},
   "source": [
    "Let's open our ntuple file that has our back-to-back 20 GeV electrons incident on HGCAL, and list the \"data dictionary\" (or ROOT Ttree leaves, if you will)."
   ]
  },
  {
   "cell_type": "code",
   "execution_count": null,
   "metadata": {},
   "outputs": [],
   "source": [
    "ntuple = upr.open('/data/users/karagozm/fire3_data/11_3_0_pre5/PartGunFixedEnergy/electrons/hgcalNtuple_20.root')\n",
    "tree = ntuple['ana/hgc']\n",
    "tree.keys()"
   ]
  },
  {
   "cell_type": "markdown",
   "metadata": {},
   "source": [
    "Now, let's do some simple plotting. This plot needs updated with proper units, etc, which I leave to you."
   ]
  },
  {
   "cell_type": "code",
   "execution_count": null,
   "metadata": {},
   "outputs": [],
   "source": [
    "fig = plt.figure(figsize=(15,15))\n",
    "fig.suptitle(\"Reconstructed Detector Hits for Back-to-Back $e^{\\pm}$ events at 20 GeV\", \n",
    "                 y = .9, \n",
    "                 size = 20)\n",
    "ax = fig.add_subplot(111)\n",
    "ax.scatter(tree['rechit_y'].array()[-1], tree['rechit_x'].array()[-1])\n",
    "ax.plot([0, 0.], [0,0], [0,0], color='r') # This marks the beamline\n",
    "ax.set_xlabel('x')\n",
    "ax.set_ylabel('y')"
   ]
  },
  {
   "cell_type": "markdown",
   "metadata": {},
   "source": [
    "Here is another scatter plot, reusing above structure, but plotting different variables."
   ]
  },
  {
   "cell_type": "code",
   "execution_count": null,
   "metadata": {},
   "outputs": [],
   "source": [
    "fig = plt.figure(figsize=(15,15))\n",
    "fig.suptitle(\"Detector Hits for Back-to-Back $e^{\\pm}$ events at 20 GeV\", \n",
    "                 y = .73, \n",
    "                 size = 15)\n",
    "ax = fig.add_subplot(111)\n",
    "radius=np.sqrt(tree['rechit_x'].array()[-1]**2+tree['rechit_y'].array()[-1]**2)\n",
    "ax.scatter(tree['rechit_z'].array()[-1], radius)\n",
    "ax.plot([-320., 320.], [0,0], [0,0], color='r') # This is the beamline\n",
    "ax.set_xlabel('z')\n",
    "ax.set_ylabel('r')"
   ]
  }
 ],
 "metadata": {
  "kernelspec": {
   "display_name": "Python 2",
   "language": "python",
   "name": "python2"
  },
  "language_info": {
   "codemirror_mode": {
    "name": "ipython",
    "version": 2
   },
   "file_extension": ".py",
   "mimetype": "text/x-python",
   "name": "python",
   "nbconvert_exporter": "python",
   "pygments_lexer": "ipython2",
   "version": "2.7.15+"
  }
 },
 "nbformat": 4,
 "nbformat_minor": 5
}
